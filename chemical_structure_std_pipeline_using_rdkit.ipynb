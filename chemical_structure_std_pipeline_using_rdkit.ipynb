{
  "nbformat": 4,
  "nbformat_minor": 0,
  "metadata": {
    "colab": {
      "provenance": []
    },
    "kernelspec": {
      "name": "python3",
      "display_name": "Python 3"
    },
    "language_info": {
      "name": "python"
    }
  },
  "cells": [
    {
      "cell_type": "markdown",
      "source": [
        "References for this pipeline:\n",
        "\n",
        "\n",
        "1.   RDKit documentation. Available at: https://www.rdkit.org/docs/index.html\n",
        "2.   RSC_OpenScience_Standardization_202104 documentation. Available at: https://github.com/greglandrum/RSC_OpenScience_Standardization_202104/blob/main/MolStandardize%20pieces.ipynb\n",
        "3.   practical_cheminformatics_tutorials. Available at: https://github.com/PatWalters/practical_cheminformatics_tutorials/blob/main/misc/working_with_ChEMBL_drug_data.ipynb\n",
        "4.   TROPSHA, Alexander. Best practices for QSAR model development, validation, and exploitation. Molecular informatics, v. 29, n. 6‐7, p. 476-488, 2010.\n",
        "5.   BENTO, A. Patrícia et al. An open source chemical structure curation pipeline using RDKit. Journal of Cheminformatics, v. 12, p. 1-16, 2020.\n"
      ],
      "metadata": {
        "id": "O0JUw90tctwO"
      }
    },
    {
      "cell_type": "code",
      "execution_count": 1,
      "metadata": {
        "colab": {
          "base_uri": "https://localhost:8080/"
        },
        "id": "RLWMQCchalQ8",
        "outputId": "ea98f168-22df-4e4b-c806-343a9d3ecc00"
      },
      "outputs": [
        {
          "output_type": "stream",
          "name": "stdout",
          "text": [
            "Collecting rdkit\n",
            "  Downloading rdkit-2024.3.1-cp310-cp310-manylinux_2_17_x86_64.manylinux2014_x86_64.whl (35.1 MB)\n",
            "\u001b[2K     \u001b[90m━━━━━━━━━━━━━━━━━━━━━━━━━━━━━━━━━━━━━━━━\u001b[0m \u001b[32m35.1/35.1 MB\u001b[0m \u001b[31m18.6 MB/s\u001b[0m eta \u001b[36m0:00:00\u001b[0m\n",
            "\u001b[?25hRequirement already satisfied: numpy in /usr/local/lib/python3.10/dist-packages (from rdkit) (1.25.2)\n",
            "Requirement already satisfied: Pillow in /usr/local/lib/python3.10/dist-packages (from rdkit) (9.4.0)\n",
            "Installing collected packages: rdkit\n",
            "Successfully installed rdkit-2024.3.1\n"
          ]
        }
      ],
      "source": [
        "!pip install rdkit"
      ]
    },
    {
      "cell_type": "code",
      "source": [
        "import re\n",
        "from rdkit import Chem\n",
        "from rdkit.Chem.MolStandardize import rdMolStandardize"
      ],
      "metadata": {
        "id": "xQndNpJYbBrW"
      },
      "execution_count": 93,
      "outputs": []
    },
    {
      "cell_type": "markdown",
      "source": [
        "Smiles Standardization\n",
        "\n",
        "1. Structure validation: the function MolFromSmiles() returns None if chemical substance is invalid\n",
        "2. Removal of Hs atoms by function MolFromSmiles()\n",
        "3. Canonicalizon of smiles by function MolToSmiles()\n",
        "\n"
      ],
      "metadata": {
        "id": "RPQdZlQKcbVV"
      }
    },
    {
      "cell_type": "code",
      "source": [
        "smiles_with_error = [\"CCO[AlH2]\", \"Br[Mg]c1ccccc1CCC(=O)O[Na]\", \"AAAAA\", \"C[Hg]C\", \"[K+].[O-]C(=O)CSC1=CC=C(F)C=C1\",\n",
        "                     \"Cc1ccccc1-c1cc(N2CC[N+](C)(COP(=O)(O)O)CC2)ncc1N(C)C(=O)C(C)(C)c1cc(C(F)(F)F)cc(C(F)(F)F)c1\",\n",
        "                     \"Cc1ccccc1-c1cc(N2CC[N+](C)(COP(=O)([O-])O)CC2)ncc1N(C)C(=O)C(C)(C)c1cc(C(F)(F)F)cc(C(F)(F)F)c1\"]\n",
        "\n",
        "for smi in smiles_with_error:\n",
        "  mol = Chem.MolFromSmiles(smi, sanitize=True)\n",
        "  if mol is not None:\n",
        "    smiles_std = Chem.MolToSmiles(mol, canonical=True)\n",
        "    print(smiles_std)\n",
        "  else:\n",
        "    pass"
      ],
      "metadata": {
        "colab": {
          "base_uri": "https://localhost:8080/"
        },
        "id": "WDdvF9nzbQad",
        "outputId": "02766996-795b-4900-9568-04f5e6526012"
      },
      "execution_count": 86,
      "outputs": [
        {
          "output_type": "stream",
          "name": "stdout",
          "text": [
            "CCO[AlH2]\n",
            "O=C(CCc1ccccc1[Mg]Br)O[Na]\n",
            "C[Hg]C\n",
            "O=C([O-])CSc1ccc(F)cc1.[K+]\n",
            "Cc1ccccc1-c1cc(N2CC[N+](C)(COP(=O)(O)O)CC2)ncc1N(C)C(=O)C(C)(C)c1cc(C(F)(F)F)cc(C(F)(F)F)c1\n",
            "Cc1ccccc1-c1cc(N2CC[N+](C)(COP(=O)([O-])O)CC2)ncc1N(C)C(=O)C(C)(C)c1cc(C(F)(F)F)cc(C(F)(F)F)c1\n"
          ]
        }
      ]
    },
    {
      "cell_type": "markdown",
      "source": [
        "Mol normalization\n",
        "\n",
        "1. Applies a series of standard transformations to correct functional groups and recombine charges (normalization)\n",
        "2. Disconnect metal atoms and counterions\n",
        "3. Reionize the molecule"
      ],
      "metadata": {
        "id": "h0X0G4bdjRFh"
      }
    },
    {
      "cell_type": "code",
      "source": [
        "smiles = [\"CCO[AlH2]\", \"Br[Mg]c1ccccc1CCC(=O)O[Na]\", \"C[Hg]C\", \"[K+].[O-]C(=O)CSC1=CC=C(F)C=C1\",\n",
        "          \"Cc1ccccc1-c1cc(N2CC[N+](C)(COP(=O)(O)O)CC2)ncc1N(C)C(=O)C(C)(C)c1cc(C(F)(F)F)cc(C(F)(F)F)c1\",\n",
        "          \"Cc1ccccc1-c1cc(N2CC[N+](C)(COP(=O)([O-])O)CC2)ncc1N(C)C(=O)C(C)(C)c1cc(C(F)(F)F)cc(C(F)(F)F)c1\"]\n",
        "\n",
        "for smi in smiles:\n",
        "  mol = Chem.MolFromSmiles(smi, sanitize=True)\n",
        "  clean_mol = rdMolStandardize.Cleanup(mol)\n",
        "  print(Chem.MolToSmiles(clean_mol, canonical=True))"
      ],
      "metadata": {
        "colab": {
          "base_uri": "https://localhost:8080/"
        },
        "id": "8euLuAUMf3aM",
        "outputId": "3af7c7fb-ce7e-45a1-c135-bdc340c8bd09"
      },
      "execution_count": 87,
      "outputs": [
        {
          "output_type": "stream",
          "name": "stdout",
          "text": [
            "CC[O-].[AlH2+]\n",
            "O=C([O-])CCc1ccccc1[Mg]Br.[Na+]\n",
            "C[Hg]C\n",
            "O=C([O-])CSc1ccc(F)cc1.[K+]\n",
            "Cc1ccccc1-c1cc(N2CC[N+](C)(COP(=O)(O)O)CC2)ncc1N(C)C(=O)C(C)(C)c1cc(C(F)(F)F)cc(C(F)(F)F)c1\n",
            "Cc1ccccc1-c1cc(N2CC[N+](C)(COP(=O)([O-])O)CC2)ncc1N(C)C(=O)C(C)(C)c1cc(C(F)(F)F)cc(C(F)(F)F)c1\n"
          ]
        }
      ]
    },
    {
      "cell_type": "markdown",
      "source": [
        "Indeed removes metal atoms, counterions, etc."
      ],
      "metadata": {
        "id": "cqUSP9KMtV24"
      }
    },
    {
      "cell_type": "code",
      "source": [
        "smiles = [\"CC[O-].[AlH2+]\", \"O=C([O-])CCc1ccccc1[Mg]Br.[Na+]\", \"C[Hg]C\", \"O=C([O-])CSc1ccc(F)cc1.[K+]\",\n",
        "          \"Cc1ccccc1-c1cc(N2CC[N+](C)(COP(=O)(O)O)CC2)ncc1N(C)C(=O)C(C)(C)c1cc(C(F)(F)F)cc(C(F)(F)F)c1\",\n",
        "          \"Cc1ccccc1-c1cc(N2CC[N+](C)(COP(=O)([O-])O)CC2)ncc1N(C)C(=O)C(C)(C)c1cc(C(F)(F)F)cc(C(F)(F)F)c1\"]\n",
        "\n",
        "for smi in smiles:\n",
        "  mol = Chem.MolFromSmiles(smi, sanitize=True)\n",
        "  clean_mol = rdMolStandardize.FragmentParent(mol)\n",
        "  print(Chem.MolToSmiles(clean_mol, canonical=True))"
      ],
      "metadata": {
        "colab": {
          "base_uri": "https://localhost:8080/"
        },
        "id": "iqSiT7kHtJ7F",
        "outputId": "90e478e5-5188-48bd-dcff-d064ae24c278"
      },
      "execution_count": 88,
      "outputs": [
        {
          "output_type": "stream",
          "name": "stdout",
          "text": [
            "CC[O-]\n",
            "O=C([O-])CCc1ccccc1[Mg]Br\n",
            "C[Hg]C\n",
            "O=C([O-])CSc1ccc(F)cc1\n",
            "Cc1ccccc1-c1cc(N2CC[N+](C)(COP(=O)(O)O)CC2)ncc1N(C)C(=O)C(C)(C)c1cc(C(F)(F)F)cc(C(F)(F)F)c1\n",
            "Cc1ccccc1-c1cc(N2CC[N+](C)(COP(=O)([O-])O)CC2)ncc1N(C)C(=O)C(C)(C)c1cc(C(F)(F)F)cc(C(F)(F)F)c1\n"
          ]
        }
      ]
    },
    {
      "cell_type": "markdown",
      "source": [
        "Neutralizes the molecule: note that neutralizing and removing charges are not the same because in some cases (p.ex.: smiles[5]) the charges are kept. Sometimes, also, the neutralizing process can fail, that's why the duplicates can also be removed by inchi values (bellow)."
      ],
      "metadata": {
        "id": "mx6ePWhvxuIE"
      }
    },
    {
      "cell_type": "code",
      "source": [
        "smiles = [\"CC[O-]\", \"O=C([O-])CCc1ccccc1[Mg]Br\", \"C[Hg]C\", \"O=C([O-])CSc1ccc(F)cc1\",\n",
        "          \"Cc1ccccc1-c1cc(N2CC[N+](C)(COP(=O)(O)O)CC2)ncc1N(C)C(=O)C(C)(C)c1cc(C(F)(F)F)cc(C(F)(F)F)c1\",\n",
        "          \"Cc1ccccc1-c1cc(N2CC[N+](C)(COP(=O)([O-])O)CC2)ncc1N(C)C(=O)C(C)(C)c1cc(C(F)(F)F)cc(C(F)(F)F)c1\"]\n",
        "\n",
        "uncharger = rdMolStandardize.Uncharger()\n",
        "for smi in smiles:\n",
        "  mol = Chem.MolFromSmiles(smi, sanitize=True)\n",
        "  clean_mol = uncharger.uncharge(mol)\n",
        "  print(Chem.MolToSmiles(clean_mol, canonical=True))"
      ],
      "metadata": {
        "colab": {
          "base_uri": "https://localhost:8080/"
        },
        "id": "8dlcN1pJxtSG",
        "outputId": "b422f006-eb21-4fab-adbd-98c19489913a"
      },
      "execution_count": 89,
      "outputs": [
        {
          "output_type": "stream",
          "name": "stdout",
          "text": [
            "CCO\n",
            "O=C(O)CCc1ccccc1[Mg]Br\n",
            "C[Hg]C\n",
            "O=C(O)CSc1ccc(F)cc1\n",
            "Cc1ccccc1-c1cc(N2CC[N+](C)(COP(=O)(O)O)CC2)ncc1N(C)C(=O)C(C)(C)c1cc(C(F)(F)F)cc(C(F)(F)F)c1\n",
            "Cc1ccccc1-c1cc(N2CC[N+](C)(COP(=O)([O-])O)CC2)ncc1N(C)C(=O)C(C)(C)c1cc(C(F)(F)F)cc(C(F)(F)F)c1\n"
          ]
        }
      ]
    },
    {
      "cell_type": "markdown",
      "source": [
        "Captures the canonical tautomer for a molecule."
      ],
      "metadata": {
        "id": "P5V82pyh0xX0"
      }
    },
    {
      "cell_type": "code",
      "source": [
        "smiles = [\"CCO\", \"O=C(O)CCc1ccccc1[Mg]Br\", \"C[Hg]C\", \"O=C(O)CSc1ccc(F)cc1\",\n",
        "          \"Cc1ccccc1-c1cc(N2CC[N+](C)(COP(=O)(O)O)CC2)ncc1N(C)C(=O)C(C)(C)c1cc(C(F)(F)F)cc(C(F)(F)F)c1\",\n",
        "          \"Cc1ccccc1-c1cc(N2CC[N+](C)(COP(=O)([O-])O)CC2)ncc1N(C)C(=O)C(C)(C)c1cc(C(F)(F)F)cc(C(F)(F)F)c1\"]\n",
        "\n",
        "te = rdMolStandardize.TautomerEnumerator()\n",
        "for smi in smiles:\n",
        "  mol = Chem.MolFromSmiles(smi, sanitize=True)\n",
        "  clean_mol = te.Canonicalize(mol)\n",
        "  print(Chem.MolToSmiles(clean_mol, canonical=True))"
      ],
      "metadata": {
        "colab": {
          "base_uri": "https://localhost:8080/"
        },
        "id": "N7daLxS50ipX",
        "outputId": "7c613a4a-46d1-4dca-bb76-bd45ad94c531"
      },
      "execution_count": 90,
      "outputs": [
        {
          "output_type": "stream",
          "name": "stdout",
          "text": [
            "CCO\n",
            "O=C(O)CCc1ccccc1[Mg]Br\n",
            "C[Hg]C\n",
            "O=C(O)CSc1ccc(F)cc1\n",
            "Cc1ccccc1-c1cc(N2CC[N+](C)(COP(=O)(O)O)CC2)ncc1N(C)C(=O)C(C)(C)c1cc(C(F)(F)F)cc(C(F)(F)F)c1\n",
            "Cc1ccccc1-c1cc(N2CC[N+](C)(COP(=O)([O-])O)CC2)ncc1N(C)C(=O)C(C)(C)c1cc(C(F)(F)F)cc(C(F)(F)F)c1\n"
          ]
        }
      ]
    },
    {
      "cell_type": "code",
      "source": [
        "duplicated_smiles = [\"Cc1ccccc1-c1cc(N2CC[N+](C)(COP(=O)(O)O)CC2)ncc1N(C)C(=O)C(C)(C)c1cc(C(F)(F)F)cc(C(F)(F)F)c1\",\n",
        "                     \"Cc1ccccc1-c1cc(N2CC[N+](C)(COP(=O)([O-])O)CC2)ncc1N(C)C(=O)C(C)(C)c1cc(C(F)(F)F)cc(C(F)(F)F)c1\"]\n",
        "\n",
        "inchi_list = []\n",
        "\n",
        "for smi in duplicated_smiles:\n",
        "  mol = Chem.MolFromSmiles(smi, sanitize=True)\n",
        "  inchi = Chem.MolToInchi(mol)\n",
        "  inchi_list.append(inchi)\n",
        "\n",
        "inchi_list[0] == inchi_list[1]"
      ],
      "metadata": {
        "colab": {
          "base_uri": "https://localhost:8080/"
        },
        "id": "A7c6slBEUBf_",
        "outputId": "d40ff405-5432-4497-9577-05d0cd5641ea"
      },
      "execution_count": 105,
      "outputs": [
        {
          "output_type": "execute_result",
          "data": {
            "text/plain": [
              "False"
            ]
          },
          "metadata": {},
          "execution_count": 105
        }
      ]
    },
    {
      "cell_type": "code",
      "source": [
        "inchi_list = [\"InChI=1S/C31H35F6N4O5P/c1-20-8-6-7-9-24(20)25-17-27(40-10-12-41(5,13-11-40)19-46-47(43,44)45)38-18-26(25)39(4)28(42)29(2,3)21-14-22(30(32,33)34)16-23(15-21)31(35,36)37/h6-9,14-18H,10-13,19H2,1-5H3,(H-,43,44,45)/p+1\",\n",
        "         \"InChI=1S/C31H35F6N4O5P/c1-20-8-6-7-9-24(20)25-17-27(40-10-12-41(5,13-11-40)19-46-47(43,44)45)38-18-26(25)39(4)28(42)29(2,3)21-14-22(30(32,33)34)16-23(15-21)31(35,36)37/h6-9,14-18H,10-13,19H2,1-5H3,(H-,43,44,45)\"]\n",
        "\n",
        "new_inchi_list = []\n",
        "\n",
        "for inchi in inchi_list:\n",
        "  inchi = re.sub(\"/p\\+[0-9]+\", \"\", inchi)\n",
        "  new_inchi_list.append(inchi)\n",
        "\n",
        "new_inchi_list[0] == new_inchi_list[1]"
      ],
      "metadata": {
        "colab": {
          "base_uri": "https://localhost:8080/"
        },
        "id": "vIU5FX4WWmj8",
        "outputId": "f5594b9f-6f47-43ff-e4c7-cffd8420654d"
      },
      "execution_count": 106,
      "outputs": [
        {
          "output_type": "execute_result",
          "data": {
            "text/plain": [
              "True"
            ]
          },
          "metadata": {},
          "execution_count": 106
        }
      ]
    }
  ]
}