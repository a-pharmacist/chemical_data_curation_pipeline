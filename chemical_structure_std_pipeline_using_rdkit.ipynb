{
  "nbformat": 4,
  "nbformat_minor": 0,
  "metadata": {
    "colab": {
      "provenance": []
    },
    "kernelspec": {
      "name": "python3",
      "display_name": "Python 3"
    },
    "language_info": {
      "name": "python"
    }
  },
  "cells": [
    {
      "cell_type": "markdown",
      "source": [
        "References for this pipeline:\n",
        "\n",
        "\n",
        "1. RDKit documentation. Available at: https://www.rdkit.org/docs/index.html\n",
        "2. RSC_OpenScience_Standardization_202104 documentation. Available at: https://github.com/greglandrum/RSC_OpenScience_Standardization_202104/blob/main/MolStandardize%20pieces.ipynb\n",
        "3. practical_cheminformatics_tutorials documentation. Available at: https://github.com/PatWalters/practical_cheminformatics_tutorials/blob/main/misc/working_with_ChEMBL_drug_data.ipynb\n",
        "4. BENTO, A. Patrícia et al. An open source chemical structure curation pipeline using RDKit. Journal of Cheminformatics, v. 12, p. 1-16, 2020.\n",
        "5. FOURCHES, Denis; MURATOV, Eugene; TROPSHA, Alexander. Trust, but verify: on the importance of chemical structure curation in cheminformatics and QSAR modeling research. Journal of chemical information and modeling, v. 50, n. 7, p. 1189, 2010.\n",
        "6. TROPSHA, Alexander. Best practices for QSAR model development, validation, and exploitation. Molecular informatics, v. 29, n. 6‐7, p. 476-488, 2010.\n"
      ],
      "metadata": {
        "id": "O0JUw90tctwO"
      }
    },
    {
      "cell_type": "code",
      "execution_count": null,
      "metadata": {
        "colab": {
          "base_uri": "https://localhost:8080/"
        },
        "id": "RLWMQCchalQ8",
        "outputId": "7ad56947-1156-4aed-b050-61745949c4fc"
      },
      "outputs": [
        {
          "output_type": "stream",
          "name": "stdout",
          "text": [
            "Requirement already satisfied: rdkit in /usr/local/lib/python3.10/dist-packages (2023.9.6)\n",
            "Requirement already satisfied: numpy in /usr/local/lib/python3.10/dist-packages (from rdkit) (1.25.2)\n",
            "Requirement already satisfied: Pillow in /usr/local/lib/python3.10/dist-packages (from rdkit) (9.4.0)\n"
          ]
        }
      ],
      "source": [
        "!pip install rdkit"
      ]
    },
    {
      "cell_type": "code",
      "source": [
        "import re\n",
        "from rdkit import Chem\n",
        "from rdkit.rdBase import BlockLogs\n",
        "from rdkit.Chem.rdchem import Atom\n",
        "from rdkit.Chem.MolStandardize import rdMolStandardize"
      ],
      "metadata": {
        "id": "xQndNpJYbBrW"
      },
      "execution_count": null,
      "outputs": []
    },
    {
      "cell_type": "markdown",
      "source": [
        "Smiles Standardization\n",
        "\n",
        "1. Structure validation: the function MolFromSmiles() returns None if chemical substance is invalid\n",
        "2. Removal of Hs atoms by function MolFromSmiles()\n",
        "3. Canonicalizon of smiles by function MolToSmiles()\n",
        "\n"
      ],
      "metadata": {
        "id": "RPQdZlQKcbVV"
      }
    },
    {
      "cell_type": "code",
      "source": [
        "smiles_with_error = [\"CCO[AlH2]\", \"Br[Mg]c1ccccc1CCC(=O)O[Na]\", \"ABC\", \"C[Hg]C\",\n",
        "                     \"[K+].[O-]C(=O)CSC1=CC=C(F)C=C1\", \"OS(=O)(=O)O\",\n",
        "                     \"Cc1ccccc1-c1cc(N2CC[N+](C)(COP(=O)(O)O)CC2)ncc1N(C)C(=O)C(C)(C)c1cc(C(F)(F)F)cc(C(F)(F)F)c1\",\n",
        "                     \"Cc1ccccc1-c1cc(N2CC[N+](C)(COP(=O)([O-])O)CC2)ncc1N(C)C(=O)C(C)(C)c1cc(C(F)(F)F)cc(C(F)(F)F)c1\"]\n",
        "\n",
        "with BlockLogs():\n",
        "  for smi in smiles_with_error:\n",
        "    mol = Chem.MolFromSmiles(smi, sanitize=True)\n",
        "    if mol is not None:\n",
        "      smiles_std = Chem.MolToSmiles(mol, canonical=True)\n",
        "      print(smiles_std)\n",
        "    else:\n",
        "      pass"
      ],
      "metadata": {
        "colab": {
          "base_uri": "https://localhost:8080/"
        },
        "id": "WDdvF9nzbQad",
        "outputId": "892bee80-c846-4b23-b67f-53319ef85965"
      },
      "execution_count": null,
      "outputs": [
        {
          "output_type": "stream",
          "name": "stdout",
          "text": [
            "CCO[AlH2]\n",
            "O=C(CCc1ccccc1[Mg]Br)O[Na]\n",
            "C[Hg]C\n",
            "O=C([O-])CSc1ccc(F)cc1.[K+]\n",
            "O=S(=O)(O)O\n",
            "Cc1ccccc1-c1cc(N2CC[N+](C)(COP(=O)(O)O)CC2)ncc1N(C)C(=O)C(C)(C)c1cc(C(F)(F)F)cc(C(F)(F)F)c1\n",
            "Cc1ccccc1-c1cc(N2CC[N+](C)(COP(=O)([O-])O)CC2)ncc1N(C)C(=O)C(C)(C)c1cc(C(F)(F)F)cc(C(F)(F)F)c1\n"
          ]
        }
      ]
    },
    {
      "cell_type": "markdown",
      "source": [
        "Mol normalization\n",
        "\n",
        "1. Applies a series of standard transformations to correct functional groups and recombine charges (normalization)\n",
        "2. Disconnect metal atoms and counterions\n",
        "3. Reionize the molecule"
      ],
      "metadata": {
        "id": "h0X0G4bdjRFh"
      }
    },
    {
      "cell_type": "code",
      "source": [
        "smiles = [\"CCO[AlH2]\", \"Br[Mg]c1ccccc1CCC(=O)O[Na]\", \"C[Hg]C\",\n",
        "          \"[K+].[O-]C(=O)CSC1=CC=C(F)C=C1\", \"OS(=O)(=O)O\",\n",
        "          \"Cc1ccccc1-c1cc(N2CC[N+](C)(COP(=O)(O)O)CC2)ncc1N(C)C(=O)C(C)(C)c1cc(C(F)(F)F)cc(C(F)(F)F)c1\",\n",
        "          \"Cc1ccccc1-c1cc(N2CC[N+](C)(COP(=O)([O-])O)CC2)ncc1N(C)C(=O)C(C)(C)c1cc(C(F)(F)F)cc(C(F)(F)F)c1\"]\n",
        "\n",
        "with BlockLogs():\n",
        "  for smi in smiles:\n",
        "    mol = Chem.MolFromSmiles(smi, sanitize=True)\n",
        "    clean_mol = rdMolStandardize.Cleanup(mol)\n",
        "    print(Chem.MolToSmiles(clean_mol, canonical=True))"
      ],
      "metadata": {
        "colab": {
          "base_uri": "https://localhost:8080/"
        },
        "id": "8euLuAUMf3aM",
        "outputId": "5a18d941-4877-488e-b118-fa2cd7118505"
      },
      "execution_count": null,
      "outputs": [
        {
          "output_type": "stream",
          "name": "stdout",
          "text": [
            "CC[O-].[AlH2+]\n",
            "O=C([O-])CCc1ccccc1[Mg]Br.[Na+]\n",
            "C[Hg]C\n",
            "O=C([O-])CSc1ccc(F)cc1.[K+]\n",
            "O=S(=O)(O)O\n",
            "Cc1ccccc1-c1cc(N2CC[N+](C)(COP(=O)(O)O)CC2)ncc1N(C)C(=O)C(C)(C)c1cc(C(F)(F)F)cc(C(F)(F)F)c1\n",
            "Cc1ccccc1-c1cc(N2CC[N+](C)(COP(=O)([O-])O)CC2)ncc1N(C)C(=O)C(C)(C)c1cc(C(F)(F)F)cc(C(F)(F)F)c1\n"
          ]
        }
      ]
    },
    {
      "cell_type": "markdown",
      "source": [
        "Indeed removes metal atoms, counterions, mixtures, etc."
      ],
      "metadata": {
        "id": "cqUSP9KMtV24"
      }
    },
    {
      "cell_type": "code",
      "source": [
        "smiles = [\"CC[O-].[AlH2+]\", \"O=C([O-])CCc1ccccc1[Mg]Br.[Na+]\", \"C[Hg]C\",\n",
        "          \"O=C([O-])CSc1ccc(F)cc1.[K+]\", \"O=S(=O)(O)O\",\n",
        "          \"Cc1ccccc1-c1cc(N2CC[N+](C)(COP(=O)(O)O)CC2)ncc1N(C)C(=O)C(C)(C)c1cc(C(F)(F)F)cc(C(F)(F)F)c1\",\n",
        "          \"Cc1ccccc1-c1cc(N2CC[N+](C)(COP(=O)([O-])O)CC2)ncc1N(C)C(=O)C(C)(C)c1cc(C(F)(F)F)cc(C(F)(F)F)c1\"]\n",
        "\n",
        "with BlockLogs():\n",
        "  for smi in smiles:\n",
        "    mol = Chem.MolFromSmiles(smi, sanitize=True)\n",
        "    clean_mol = rdMolStandardize.FragmentParent(mol)\n",
        "    print(Chem.MolToSmiles(clean_mol, canonical=True))"
      ],
      "metadata": {
        "colab": {
          "base_uri": "https://localhost:8080/"
        },
        "id": "iqSiT7kHtJ7F",
        "outputId": "75bd3658-453b-463f-cb88-3714bd9da114"
      },
      "execution_count": null,
      "outputs": [
        {
          "output_type": "stream",
          "name": "stdout",
          "text": [
            "CC[O-]\n",
            "O=C([O-])CCc1ccccc1[Mg]Br\n",
            "C[Hg]C\n",
            "O=C([O-])CSc1ccc(F)cc1\n",
            "O=S(=O)(O)O\n",
            "Cc1ccccc1-c1cc(N2CC[N+](C)(COP(=O)(O)O)CC2)ncc1N(C)C(=O)C(C)(C)c1cc(C(F)(F)F)cc(C(F)(F)F)c1\n",
            "Cc1ccccc1-c1cc(N2CC[N+](C)(COP(=O)([O-])O)CC2)ncc1N(C)C(=O)C(C)(C)c1cc(C(F)(F)F)cc(C(F)(F)F)c1\n"
          ]
        }
      ]
    },
    {
      "cell_type": "markdown",
      "source": [
        "Neutralizes the molecule: note that neutralizing and removing charges are not the same because in some cases (p.ex.: smiles[5]) the charges are kept. Sometimes, also, the neutralizing process can fail, that's why the duplicates can also be removed by inchi values (bellow)."
      ],
      "metadata": {
        "id": "mx6ePWhvxuIE"
      }
    },
    {
      "cell_type": "code",
      "source": [
        "smiles = [\"CC[O-]\", \"O=C([O-])CCc1ccccc1[Mg]Br\", \"C[Hg]C\",\n",
        "          \"O=C([O-])CSc1ccc(F)cc1\", \"O=S(=O)(O)O\",\n",
        "          \"Cc1ccccc1-c1cc(N2CC[N+](C)(COP(=O)(O)O)CC2)ncc1N(C)C(=O)C(C)(C)c1cc(C(F)(F)F)cc(C(F)(F)F)c1\",\n",
        "          \"Cc1ccccc1-c1cc(N2CC[N+](C)(COP(=O)([O-])O)CC2)ncc1N(C)C(=O)C(C)(C)c1cc(C(F)(F)F)cc(C(F)(F)F)c1\"]\n",
        "\n",
        "uncharger = rdMolStandardize.Uncharger()\n",
        "with BlockLogs():\n",
        "  for smi in smiles:\n",
        "    mol = Chem.MolFromSmiles(smi, sanitize=True)\n",
        "    clean_mol = uncharger.uncharge(mol)\n",
        "    print(Chem.MolToSmiles(clean_mol, canonical=True))"
      ],
      "metadata": {
        "colab": {
          "base_uri": "https://localhost:8080/"
        },
        "id": "8dlcN1pJxtSG",
        "outputId": "2ff7ecde-9dc8-401d-86b8-3fdca73490cc"
      },
      "execution_count": null,
      "outputs": [
        {
          "output_type": "stream",
          "name": "stdout",
          "text": [
            "CCO\n",
            "O=C(O)CCc1ccccc1[Mg]Br\n",
            "C[Hg]C\n",
            "O=C(O)CSc1ccc(F)cc1\n",
            "O=S(=O)(O)O\n",
            "Cc1ccccc1-c1cc(N2CC[N+](C)(COP(=O)(O)O)CC2)ncc1N(C)C(=O)C(C)(C)c1cc(C(F)(F)F)cc(C(F)(F)F)c1\n",
            "Cc1ccccc1-c1cc(N2CC[N+](C)(COP(=O)([O-])O)CC2)ncc1N(C)C(=O)C(C)(C)c1cc(C(F)(F)F)cc(C(F)(F)F)c1\n"
          ]
        }
      ]
    },
    {
      "cell_type": "markdown",
      "source": [
        "Captures the canonical tautomer for a molecule."
      ],
      "metadata": {
        "id": "P5V82pyh0xX0"
      }
    },
    {
      "cell_type": "code",
      "source": [
        "smiles = [\"CCO\", \"O=C(O)CCc1ccccc1[Mg]Br\", \"C[Hg]C\",\n",
        "          \"O=C(O)CSc1ccc(F)cc1\", \"O=S(=O)(O)O\",\n",
        "          \"Cc1ccccc1-c1cc(N2CC[N+](C)(COP(=O)(O)O)CC2)ncc1N(C)C(=O)C(C)(C)c1cc(C(F)(F)F)cc(C(F)(F)F)c1\",\n",
        "          \"Cc1ccccc1-c1cc(N2CC[N+](C)(COP(=O)([O-])O)CC2)ncc1N(C)C(=O)C(C)(C)c1cc(C(F)(F)F)cc(C(F)(F)F)c1\"]\n",
        "\n",
        "te = rdMolStandardize.TautomerEnumerator()\n",
        "for smi in smiles:\n",
        "  mol = Chem.MolFromSmiles(smi, sanitize=True)\n",
        "  clean_mol = te.Canonicalize(mol)\n",
        "  print(Chem.MolToSmiles(clean_mol, canonical=True))"
      ],
      "metadata": {
        "colab": {
          "base_uri": "https://localhost:8080/"
        },
        "id": "N7daLxS50ipX",
        "outputId": "ab6e7b47-795a-42d9-8210-9ecd98c43c68"
      },
      "execution_count": null,
      "outputs": [
        {
          "output_type": "stream",
          "name": "stdout",
          "text": [
            "CCO\n",
            "O=C(O)CCc1ccccc1[Mg]Br\n",
            "C[Hg]C\n",
            "O=C(O)CSc1ccc(F)cc1\n",
            "O=S(=O)(O)O\n",
            "Cc1ccccc1-c1cc(N2CC[N+](C)(COP(=O)(O)O)CC2)ncc1N(C)C(=O)C(C)(C)c1cc(C(F)(F)F)cc(C(F)(F)F)c1\n",
            "Cc1ccccc1-c1cc(N2CC[N+](C)(COP(=O)([O-])O)CC2)ncc1N(C)C(=O)C(C)(C)c1cc(C(F)(F)F)cc(C(F)(F)F)c1\n"
          ]
        }
      ]
    },
    {
      "cell_type": "markdown",
      "source": [
        "Checks if all atoms are allowed (only C, N, O, F, P, S, Cl, Br, I) and if at least one carbon atom is present."
      ],
      "metadata": {
        "id": "cx4Ws3EpMsYu"
      }
    },
    {
      "cell_type": "code",
      "source": [
        "smiles = [\"CCO\", \"O=C(O)CCc1ccccc1[Mg]Br\", \"C[Hg]C\",\n",
        "          \"O=C(O)CSc1ccc(F)cc1\", \"O=S(=O)(O)O\",\n",
        "          \"Cc1ccccc1-c1cc(N2CC[N+](C)(COP(=O)(O)O)CC2)ncc1N(C)C(=O)C(C)(C)c1cc(C(F)(F)F)cc(C(F)(F)F)c1\",\n",
        "          \"Cc1ccccc1-c1cc(N2CC[N+](C)(COP(=O)([O-])O)CC2)ncc1N(C)C(=O)C(C)(C)c1cc(C(F)(F)F)cc(C(F)(F)F)c1\"]\n",
        "\n",
        "atomic_symbol = [\"C\", \"N\", \"O\", \"F\", \"P\", \"S\", \"Cl\", \"Br\", \"I\"]\n",
        "\n",
        "allowed = []\n",
        "not_allowed = []\n",
        "\n",
        "with BlockLogs():\n",
        "  for smi in smiles:\n",
        "    carbon_count = 0\n",
        "    forbidden_atoms_count = 0\n",
        "    mol = Chem.MolFromSmiles(smi, sanitize=True)\n",
        "    for atom in mol.GetAtoms():\n",
        "      if Atom.GetSymbol(atom) not in atomic_symbol:\n",
        "        forbidden_atoms_count += 1\n",
        "      elif Atom.GetSymbol(atom) == \"C\":\n",
        "        carbon_count += 1\n",
        "\n",
        "    if (forbidden_atoms_count != 0) or (carbon_count == 0):\n",
        "      not_allowed.append(Chem.MolToSmiles(mol, canonical=True))\n",
        "    else:\n",
        "      allowed.append(Chem.MolToSmiles(mol, canonical=True))\n",
        "\n",
        "print(\"Allowed: \\n\")\n",
        "for i in allowed:\n",
        "  print(i)\n",
        "\n",
        "print()\n",
        "\n",
        "print(\"Not allowed: \\n\")\n",
        "for i in not_allowed:\n",
        "  print(i)"
      ],
      "metadata": {
        "colab": {
          "base_uri": "https://localhost:8080/"
        },
        "id": "rnX0r2fgNZ9r",
        "outputId": "0a5d3197-d8a5-436b-d180-7377b392fb5f"
      },
      "execution_count": null,
      "outputs": [
        {
          "output_type": "stream",
          "name": "stdout",
          "text": [
            "Allowed: \n",
            "\n",
            "CCO\n",
            "O=C(O)CSc1ccc(F)cc1\n",
            "Cc1ccccc1-c1cc(N2CC[N+](C)(COP(=O)(O)O)CC2)ncc1N(C)C(=O)C(C)(C)c1cc(C(F)(F)F)cc(C(F)(F)F)c1\n",
            "Cc1ccccc1-c1cc(N2CC[N+](C)(COP(=O)([O-])O)CC2)ncc1N(C)C(=O)C(C)(C)c1cc(C(F)(F)F)cc(C(F)(F)F)c1\n",
            "\n",
            "Not allowed: \n",
            "\n",
            "O=C(O)CCc1ccccc1[Mg]Br\n",
            "C[Hg]C\n",
            "O=S(=O)(O)O\n"
          ]
        }
      ]
    },
    {
      "cell_type": "code",
      "source": [
        "duplicated_smiles = [\"Cc1ccccc1-c1cc(N2CC[N+](C)(COP(=O)(O)O)CC2)ncc1N(C)C(=O)C(C)(C)c1cc(C(F)(F)F)cc(C(F)(F)F)c1\",\n",
        "                     \"Cc1ccccc1-c1cc(N2CC[N+](C)(COP(=O)([O-])O)CC2)ncc1N(C)C(=O)C(C)(C)c1cc(C(F)(F)F)cc(C(F)(F)F)c1\"]\n",
        "\n",
        "inchi_list = []\n",
        "\n",
        "with BlockLogs():\n",
        "  for smi in duplicated_smiles:\n",
        "    mol = Chem.MolFromSmiles(smi, sanitize=True)\n",
        "    inchi = Chem.MolToInchi(mol)\n",
        "    inchi_list.append(inchi)\n",
        "\n",
        "inchi_list[0] == inchi_list[1]"
      ],
      "metadata": {
        "colab": {
          "base_uri": "https://localhost:8080/"
        },
        "id": "A7c6slBEUBf_",
        "outputId": "b531c833-b0e9-479e-b90b-e6022e09a1c5"
      },
      "execution_count": null,
      "outputs": [
        {
          "output_type": "execute_result",
          "data": {
            "text/plain": [
              "False"
            ]
          },
          "metadata": {},
          "execution_count": 74
        }
      ]
    },
    {
      "cell_type": "code",
      "source": [
        "inchi_list = [\"InChI=1S/C31H35F6N4O5P/c1-20-8-6-7-9-24(20)25-17-27(40-10-12-41(5,13-11-40)19-46-47(43,44)45)38-18-26(25)39(4)28(42)29(2,3)21-14-22(30(32,33)34)16-23(15-21)31(35,36)37/h6-9,14-18H,10-13,19H2,1-5H3,(H-,43,44,45)/p+1\",\n",
        "         \"InChI=1S/C31H35F6N4O5P/c1-20-8-6-7-9-24(20)25-17-27(40-10-12-41(5,13-11-40)19-46-47(43,44)45)38-18-26(25)39(4)28(42)29(2,3)21-14-22(30(32,33)34)16-23(15-21)31(35,36)37/h6-9,14-18H,10-13,19H2,1-5H3,(H-,43,44,45)\"]\n",
        "\n",
        "new_inchi_list = []\n",
        "\n",
        "with BlockLogs():\n",
        "  for inchi in inchi_list:\n",
        "    inchi = re.sub(\"/p\\+[0-9]+\", \"\", inchi)\n",
        "    new_inchi_list.append(inchi)\n",
        "\n",
        "new_inchi_list[0] == new_inchi_list[1]"
      ],
      "metadata": {
        "colab": {
          "base_uri": "https://localhost:8080/"
        },
        "id": "vIU5FX4WWmj8",
        "outputId": "8e846f7b-63c9-4f57-be0e-dbc039fa8d9d"
      },
      "execution_count": null,
      "outputs": [
        {
          "output_type": "execute_result",
          "data": {
            "text/plain": [
              "True"
            ]
          },
          "metadata": {},
          "execution_count": 75
        }
      ]
    },
    {
      "cell_type": "markdown",
      "source": [
        "After implementing this pipeline, a manual inspection of the SMILES list is recommended :)"
      ],
      "metadata": {
        "id": "9TPXWkrR3vAk"
      }
    }
  ]
}